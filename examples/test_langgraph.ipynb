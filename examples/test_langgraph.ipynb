{
 "cells": [
  {
   "cell_type": "code",
   "execution_count": 1,
   "metadata": {},
   "outputs": [],
   "source": [
    "from dotenv import load_dotenv"
   ]
  },
  {
   "cell_type": "code",
   "execution_count": 2,
   "metadata": {},
   "outputs": [
    {
     "data": {
      "text/plain": [
       "True"
      ]
     },
     "execution_count": 2,
     "metadata": {},
     "output_type": "execute_result"
    }
   ],
   "source": [
    "load_dotenv()"
   ]
  },
  {
   "cell_type": "code",
   "execution_count": 3,
   "metadata": {},
   "outputs": [],
   "source": [
    "import os\n",
    "os.environ['LANGCHAIN_TRACING_V2'] = 'true'\n",
    "os.environ['LANGCHAIN_ENDPOINT'] = 'https://api.smith.langchain.com'\n",
    "os.environ['LANGCHAIN_API_KEY'] = \"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\"\n",
    "os.environ['AZURE_OPENAI_API_KEY'] = os.getenv(\"AZURE_OPENAI_API_KEY\")"
   ]
  },
  {
   "cell_type": "code",
   "execution_count": 4,
   "metadata": {},
   "outputs": [],
   "source": [
    "from langchain_openai import AzureChatOpenAI\n",
    "\n",
    "llm = AzureChatOpenAI(\n",
    "    model=\"gpt_4o\",\n",
    "    azure_deployment=\"odda_gpt\",\n",
    "    azure_endpoint=os.getenv(\"AZURE_OPENAI_ENDPOINT\"),\n",
    "    openai_api_type=os.getenv(\"AZURE_OPENAI_API_TYPE\"),\n",
    "    api_version=os.getenv(\"AZURE_OPENAI_VERSION\"),\n",
    "    temperature=0\n",
    ")\n",
    "\n"
   ]
  },
  {
   "cell_type": "code",
   "execution_count": 5,
   "metadata": {},
   "outputs": [],
   "source": [
    "from langchain_core.messages import HumanMessage\n",
    "from langgraph.graph import END, MessageGraph"
   ]
  },
  {
   "cell_type": "code",
   "execution_count": 6,
   "metadata": {},
   "outputs": [],
   "source": [
    "def add_one(input: list[HumanMessage]):\n",
    "    input[0].content = input[0].content + \"a\"\n",
    "    return input\n",
    "\n",
    "def add_two(input: list[HumanMessage]):\n",
    "    input[0].content = input[0].content + \"b\"\n",
    "    return input\n",
    "\n",
    "graph = MessageGraph()\n",
    "\n",
    "graph.add_node(\"branch_a\", add_one)\n",
    "graph.add_edge(\"branch_a\",\"branch_b\")\n",
    "graph.add_edge(\"branch_a\",\"branch_c\")\n",
    "\n",
    "graph.add_node(\"branch_b\", add_one)\n",
    "graph.add_node(\"branch_c\", add_two)\n",
    "\n",
    "graph.add_edge(\"branch_c\",\"final_node\")\n",
    "graph.add_edge(\"branch_b\",\"final_node\")\n",
    "\n",
    "graph.add_node(\"final_node\", add_one)\n",
    "graph.add_edge(\"final_node\",END)\n",
    "\n",
    "graph.set_entry_point(\"branch_a\")\n",
    "\n",
    "runnable = graph.compile()"
   ]
  },
  {
   "cell_type": "code",
   "execution_count": 7,
   "metadata": {},
   "outputs": [
    {
     "data": {
      "image/jpeg": "[encoded data removed]",
      "text/plain": [
       "<IPython.core.display.Image object>"
      ]
     },
     "metadata": {},
     "output_type": "display_data"
    }
   ],
   "source": [
    "from IPython.display import Image, display\n",
    "\n",
    "display(Image(runnable.get_graph().draw_mermaid_png()))"
   ]
  },
  {
   "cell_type": "code",
   "execution_count": 8,
   "metadata": {},
   "outputs": [
    {
     "data": {
      "text/plain": [
       "[HumanMessage(content='aaaba', id='d207a8ce-d741-4b72-bce3-de010fa26457')]"
      ]
     },
     "execution_count": 8,
     "metadata": {},
     "output_type": "execute_result"
    }
   ],
   "source": [
    "runnable.invoke(\"a\")"
   ]
  },
  {
   "cell_type": "code",
   "execution_count": 9,
   "metadata": {},
   "outputs": [],
   "source": [
    "from langgraph.graph import MessageGraph, END\n",
    "from langchain_core.messages import HumanMessage\n",
    "\n",
    "def entry(input: list[HumanMessage]):\n",
    "    return input\n",
    "\n",
    "def work_with_b(input: list[HumanMessage]):\n",
    "    print(\"Using Branch B\")\n",
    "    return input\n",
    "\n",
    "def work_with_c(input: list[HumanMessage]):\n",
    "    print(\"Using Branch C\")\n",
    "    return input\n",
    "\n",
    "def router(input: list[HumanMessage]):\n",
    "    if \"use_b\" in input[0].content:\n",
    "        return \"branch_b\"\n",
    "    else:\n",
    "        return \"branch_c\"\n",
    "    \n",
    "graph = MessageGraph()\n",
    "\n",
    "graph.add_node(\"branch_a\", entry)\n",
    "graph.add_node(\"branch_b\", work_with_b)\n",
    "graph.add_node(\"branch_c\", work_with_c)\n",
    "\n",
    "graph.add_conditional_edges(\n",
    "    \"branch_a\",\n",
    "    router,\n",
    "    {\"branch_b\":\"branch_b\",\"branch_c\":\"branch_c\"}\n",
    ")\n",
    "\n",
    "graph.add_edge(\"branch_b\", END)\n",
    "graph.add_edge(\"branch_c\", END)\n",
    "\n",
    "graph.set_entry_point(\"branch_a\")\n",
    "\n",
    "runnable = graph.compile()"
   ]
  },
  {
   "cell_type": "code",
   "execution_count": 16,
   "metadata": {},
   "outputs": [
    {
     "data": {
      "image/jpeg": "[encoded data removed]",
      "text/plain": [
       "<IPython.core.display.Image object>"
      ]
     },
     "metadata": {},
     "output_type": "display_data"
    }
   ],
   "source": [
    "from IPython.display import Image, display\n",
    "\n",
    "display(Image(runnable.get_graph().draw_mermaid_png()))"
   ]
  },
  {
   "cell_type": "code",
   "execution_count": 10,
   "metadata": {},
   "outputs": [
    {
     "name": "stdout",
     "output_type": "stream",
     "text": [
      "Using Branch C\n"
     ]
    },
    {
     "data": {
      "text/plain": [
       "[HumanMessage(content='I think for this one you should try branch c', id='ae7798ee-05ff-41af-84e4-937b32dc8e29')]"
      ]
     },
     "execution_count": 10,
     "metadata": {},
     "output_type": "execute_result"
    }
   ],
   "source": [
    "runnable.invoke(\"I think for this one you should try branch c\")"
   ]
  },
  {
   "cell_type": "code",
   "execution_count": 11,
   "metadata": {},
   "outputs": [
    {
     "name": "stdout",
     "output_type": "stream",
     "text": [
      "Using Branch C\n"
     ]
    },
    {
     "data": {
      "text/plain": [
       "[HumanMessage(content='I think for this one you should try branch c, how are you?', id='83162431-c140-454d-92b0-6328010c599c')]"
      ]
     },
     "execution_count": 11,
     "metadata": {},
     "output_type": "execute_result"
    }
   ],
   "source": [
    "runnable.invoke(\"I think for this one you should try branch c, how are you?\")"
   ]
  },
  {
   "cell_type": "code",
   "execution_count": 12,
   "metadata": {},
   "outputs": [
    {
     "name": "stdout",
     "output_type": "stream",
     "text": [
      "Using Branch B\n"
     ]
    },
    {
     "data": {
      "text/plain": [
       "[HumanMessage(content='I think for this one you should try use_b', id='d6f02c21-eaa4-456e-9fc2-d89c4c5e7f75')]"
      ]
     },
     "execution_count": 12,
     "metadata": {},
     "output_type": "execute_result"
    }
   ],
   "source": [
    "runnable.invoke(\"I think for this one you should try use_b\")"
   ]
  },
  {
   "cell_type": "code",
   "execution_count": 13,
   "metadata": {},
   "outputs": [],
   "source": [
    "from langchain_openai import AzureChatOpenAI\n",
    "from langchain_core.messages import HumanMessage\n",
    "from langgraph.graph import END, MessageGraph\n",
    "\n",
    "llm = AzureChatOpenAI(\n",
    "    model=\"gpt_4o\",\n",
    "    azure_deployment=\"odda_gpt\",\n",
    "    azure_endpoint=os.getenv(\"AZURE_OPENAI_ENDPOINT\"),\n",
    "    openai_api_type=os.getenv(\"AZURE_OPENAI_API_TYPE\"),\n",
    "    api_version=os.getenv(\"AZURE_OPENAI_VERSION\"),\n",
    "    temperature=0\n",
    ")\n",
    "\n",
    "def entry(input: list[HumanMessage]):\n",
    "    return input\n",
    "\n",
    "def action(input: list[HumanMessage]):\n",
    "    print(\"Action taken:\", [msg.content for msg in input])\n",
    "    if len(input) > 5:\n",
    "        input.append(HumanMessage(content=\"end\"))\n",
    "    else:\n",
    "        input.append(HumanMessage(content=\"continue\"))\n",
    "    return input\n",
    "\n",
    "def should_continue(input: list):\n",
    "    last_message = input[-1]\n",
    "    if \"end\" in last_message.content:\n",
    "        return \"__end__\"\n",
    "    return \"action\"\n",
    "\n",
    "\n",
    "graph = MessageGraph()\n",
    "\n",
    "graph.add_node(\"agent\", entry)\n",
    "graph.add_node(\"action\", action)\n",
    "\n",
    "graph.add_conditional_edges(\n",
    "    \"agent\",\n",
    "    should_continue,\n",
    "    {\"action\":\"action\",\"__end__\":END}\n",
    ")\n",
    "\n",
    "graph.set_entry_point(\"agent\")\n",
    "graph.add_edge(\"action\",\"agent\")\n",
    "\n",
    "runnable = graph.compile()"
   ]
  },
  {
   "cell_type": "code",
   "execution_count": 14,
   "metadata": {},
   "outputs": [
    {
     "data": {
      "image/jpeg": "[encoded data removed]",
      "text/plain": [
       "<IPython.core.display.Image object>"
      ]
     },
     "metadata": {},
     "output_type": "display_data"
    }
   ],
   "source": [
    "from IPython.display import Image, display\n",
    "\n",
    "display(Image(runnable.get_graph().draw_mermaid_png()))"
   ]
  },
  {
   "cell_type": "code",
   "execution_count": 15,
   "metadata": {},
   "outputs": [
    {
     "name": "stdout",
     "output_type": "stream",
     "text": [
      "Action taken: ['one']\n",
      "Action taken: ['one', 'continue']\n",
      "Action taken: ['one', 'continue', 'continue']\n",
      "Action taken: ['one', 'continue', 'continue', 'continue']\n",
      "Action taken: ['one', 'continue', 'continue', 'continue', 'continue']\n",
      "Action taken: ['one', 'continue', 'continue', 'continue', 'continue', 'continue']\n"
     ]
    },
    {
     "data": {
      "text/plain": [
       "[HumanMessage(content='one', id='59682c9f-1d84-4089-b978-dedf66e6f9f1'),\n",
       " HumanMessage(content='continue', id='472df9f7-d463-4624-a2b6-7454a839f024'),\n",
       " HumanMessage(content='continue', id='7a0140cd-1d25-4787-8668-eee4989600f7'),\n",
       " HumanMessage(content='continue', id='d301104b-9e05-4ac6-b2f7-35963fc2c5d6'),\n",
       " HumanMessage(content='continue', id='27f9db25-a83e-4ecf-9696-af33f19e081c'),\n",
       " HumanMessage(content='continue', id='539af71b-4351-4beb-bd18-da2dd1c35229'),\n",
       " HumanMessage(content='end', id='7f6589e7-6914-4f39-a6f9-a7f9a7cf8c96')]"
      ]
     },
     "execution_count": 15,
     "metadata": {},
     "output_type": "execute_result"
    }
   ],
   "source": [
    "runnable.invoke(\"one\")"
   ]
  },
  {
   "cell_type": "code",
   "execution_count": 16,
   "metadata": {},
   "outputs": [],
   "source": [
    "## We will also now create a custom state\n",
    "from typing import TypedDict, Annotated, Sequence\n",
    "import operator\n",
    "from langchain_core.messages import BaseMessage\n",
    "\n",
    "\n",
    "class AgentState(TypedDict):\n",
    "    messages: Annotated[Sequence[BaseMessage], operator.add]\n",
    "    api_call_count: int = 0"
   ]
  },
  {
   "cell_type": "code",
   "execution_count": 17,
   "metadata": {},
   "outputs": [],
   "source": [
    "### now we need to create the tool from Langchain \n",
    "\n",
    "from langchain_core.tools import tool\n",
    "# from langchain_community.tools.tavily_search import TavilySearchResults\n",
    "\n",
    "# os.environ[\"TAVILY_API_KEY\"]=os.getenv(\"TAVILY_API_KEY\")\n",
    "\n",
    "# tools = [TavilySearchResults(max_results=1)]\n",
    "\n",
    "import random\n",
    "\n",
    "\n",
    "@tool\n",
    "def fake_weather_api(city: str) -> str:\n",
    "    \"\"\"Check the weather in a specified city. The API is available randomly, approximately every third call.\"\"\"\n",
    "\n",
    "    if random.randint(1, 2) == 1:  # Approximately one-third chance\n",
    "        return \"Sunny, 22°C\"\n",
    "    else:\n",
    "        return \"Rainy, 4°C\""
   ]
  },
  {
   "cell_type": "code",
   "execution_count": 18,
   "metadata": {},
   "outputs": [
    {
     "name": "stdout",
     "output_type": "stream",
     "text": [
      "Rainy, 4°C\n",
      "Sunny, 22°C\n",
      "Rainy, 4°C\n"
     ]
    },
    {
     "name": "stderr",
     "output_type": "stream",
     "text": [
      "/Users/talwapul/Documents/LangChainRP/langgraph/venv/lib/python3.12/site-packages/langchain_core/_api/deprecation.py:139: LangChainDeprecationWarning: The method `BaseTool.__call__` was deprecated in langchain-core 0.1.47 and will be removed in 0.3.0. Use invoke instead.\n",
      "  warn_deprecated(\n"
     ]
    }
   ],
   "source": [
    "print(fake_weather_api(\"New York\"))\n",
    "print(fake_weather_api(\"London\"))\n",
    "print(fake_weather_api(\"Berlin\"))"
   ]
  },
  {
   "cell_type": "code",
   "execution_count": 20,
   "metadata": {},
   "outputs": [],
   "source": [
    "llm_with_tools = llm.bind_tools([fake_weather_api])"
   ]
  },
  {
   "cell_type": "code",
   "execution_count": 21,
   "metadata": {},
   "outputs": [
    {
     "name": "stdout",
     "output_type": "stream",
     "text": [
      "[HumanMessage(content='How will the weather be in Munich today? I would like to eat outdoors if possible.'), AIMessage(content='', additional_kwargs={'tool_calls': [{'id': 'call_VlHh5ZPjvfzWaz79DS6Htg0X', 'function': {'arguments': '{\"city\":\"Munich\"}', 'name': 'fake_weather_api'}, 'type': 'function'}]}, response_metadata={'token_usage': {'completion_tokens': 16, 'prompt_tokens': 75, 'total_tokens': 91}, 'model_name': 'gpt-4o-2024-05-13', 'system_fingerprint': 'fp_80a1bad4c7', 'prompt_filter_results': [{'prompt_index': 0, 'content_filter_results': {'hate': {'filtered': False, 'severity': 'safe'}, 'self_harm': {'filtered': False, 'severity': 'safe'}, 'sexual': {'filtered': False, 'severity': 'safe'}, 'violence': {'filtered': False, 'severity': 'safe'}}}], 'finish_reason': 'tool_calls', 'logprobs': None, 'content_filter_results': {}}, id='run-5994edb9-ffd9-42fe-9a64-2e3624a6d003-0', tool_calls=[{'name': 'fake_weather_api', 'args': {'city': 'Munich'}, 'id': 'call_VlHh5ZPjvfzWaz79DS6Htg0X', 'type': 'tool_call'}], usage_metadata={'input_tokens': 75, 'output_tokens': 16, 'total_tokens': 91})]\n"
     ]
    }
   ],
   "source": [
    "from langchain_core.messages import HumanMessage, ToolMessage\n",
    "\n",
    "tool_mapping = {\"fake_weather_api\": fake_weather_api}\n",
    "\n",
    "messages = [HumanMessage(\"How will the weather be in Munich today? I would like to eat outdoors if possible.\")]\n",
    "\n",
    "llm_output = llm_with_tools.invoke(messages)\n",
    "\n",
    "messages.append(llm_output)\n",
    "\n",
    "print(messages)"
   ]
  },
  {
   "cell_type": "code",
   "execution_count": 22,
   "metadata": {},
   "outputs": [
    {
     "data": {
      "text/plain": [
       "AIMessage(content='The weather in Munich today is sunny with a temperature of 22°C. It sounds like a perfect day to eat outdoors! Enjoy your meal!', response_metadata={'token_usage': {'completion_tokens': 30, 'prompt_tokens': 105, 'total_tokens': 135}, 'model_name': 'gpt-4o-2024-05-13', 'system_fingerprint': 'fp_80a1bad4c7', 'prompt_filter_results': [{'prompt_index': 0, 'content_filter_results': {'hate': {'filtered': False, 'severity': 'safe'}, 'self_harm': {'filtered': False, 'severity': 'safe'}, 'sexual': {'filtered': False, 'severity': 'safe'}, 'violence': {'filtered': False, 'severity': 'safe'}}}], 'finish_reason': 'stop', 'logprobs': None, 'content_filter_results': {'hate': {'filtered': False, 'severity': 'safe'}, 'self_harm': {'filtered': False, 'severity': 'safe'}, 'sexual': {'filtered': False, 'severity': 'safe'}, 'violence': {'filtered': False, 'severity': 'safe'}}}, id='run-70329839-cbab-4c84-bd1c-785e9032a802-0', usage_metadata={'input_tokens': 105, 'output_tokens': 30, 'total_tokens': 135})"
      ]
     },
     "execution_count": 22,
     "metadata": {},
     "output_type": "execute_result"
    }
   ],
   "source": [
    "for tool_call in llm_output.tool_calls:\n",
    "    tool = tool_mapping[tool_call[\"name\"].lower()]\n",
    "    tool_output = tool.invoke(tool_call[\"args\"])\n",
    "    messages.append(ToolMessage(content=tool_output, tool_call_id=tool_call[\"id\"]))\n",
    "\n",
    "llm_with_tools.invoke(messages)"
   ]
  },
  {
   "cell_type": "code",
   "execution_count": 23,
   "metadata": {},
   "outputs": [],
   "source": [
    "def should_continue(state: AgentState):\n",
    "    print(\"STATE:\", state)\n",
    "    messages = state[\"messages\"]\n",
    "    last_message = messages[-1]\n",
    "    if not last_message.tool_calls:\n",
    "        return \"end\"\n",
    "    else:\n",
    "        return \"continue\"\n",
    "    \n",
    "def call_model(state: AgentState):\n",
    "    messages = state[\"messages\"]\n",
    "    response = llm_with_tools.invoke(messages)\n",
    "    return {\"messages\":[response], \"api_call_count\":state[\"api_call_count\"]}\n",
    "\n",
    "def call_tool(state: AgentState):\n",
    "    messages = state[\"messages\"]\n",
    "    last_message = messages[-1]\n",
    "    tool_call = last_message.tool_calls[0]\n",
    "    tool = tool_mapping[tool_call[\"name\"].lower()]\n",
    "    tool_output = tool.invoke(tool_call[\"args\"])\n",
    "    state[\"api_call_count\"] += 1\n",
    "    print(\"Tool output:\", tool_output)\n",
    "    print(\"API call count after this tool call:\", state[\"api_call_count\"])\n",
    "    tool_message = ToolMessage(content=tool_output, tool_call_id=tool_call[\"id\"])\n",
    "    return {\"messages\": [tool_message], \"api_call_count\": state[\"api_call_count\"]}\n"
   ]
  },
  {
   "cell_type": "code",
   "execution_count": 24,
   "metadata": {},
   "outputs": [],
   "source": [
    "from langgraph.graph import StateGraph, END\n",
    "\n",
    "workflow = StateGraph(AgentState)\n",
    "\n",
    "workflow.add_node(\"agent\", call_model)\n",
    "workflow.add_node(\"action\", call_tool)\n",
    "\n",
    "workflow.set_entry_point(\"agent\")\n",
    "\n",
    "workflow.add_conditional_edges(\n",
    "    \"agent\",\n",
    "    should_continue,\n",
    "    {\n",
    "        \"continue\":\"action\",\n",
    "        \"end\":END,\n",
    "    }\n",
    ")\n",
    "\n",
    "workflow.add_edge(\"action\",\"agent\")\n",
    "\n",
    "app = workflow.compile()"
   ]
  },
  {
   "cell_type": "code",
   "execution_count": 25,
   "metadata": {},
   "outputs": [
    {
     "data": {
      "image/jpeg": "[encoded data removed]",
      "text/plain": [
       "<IPython.core.display.Image object>"
      ]
     },
     "metadata": {},
     "output_type": "display_data"
    }
   ],
   "source": [
    "from IPython.display import Image, display\n",
    "\n",
    "try:\n",
    "    display(Image(app.get_graph(xray=True).draw_mermaid_png()))\n",
    "except:\n",
    "    pass"
   ]
  },
  {
   "cell_type": "code",
   "execution_count": 26,
   "metadata": {},
   "outputs": [
    {
     "name": "stdout",
     "output_type": "stream",
     "text": [
      "STATE: {'messages': [SystemMessage(content='You are responsible for answering user questions. You use tools for that, These tools sometimes fail and you are very resilient and trying them again'), HumanMessage(content='How is the weather in munich today?'), AIMessage(content='', additional_kwargs={'tool_calls': [{'id': 'call_NwWuxGDUl6Osbb7l1VzlDOUE', 'function': {'arguments': '{\"city\":\"Munich\"}', 'name': 'fake_weather_api'}, 'type': 'function'}]}, response_metadata={'token_usage': {'completion_tokens': 16, 'prompt_tokens': 94, 'total_tokens': 110}, 'model_name': 'gpt-4o-2024-05-13', 'system_fingerprint': 'fp_80a1bad4c7', 'prompt_filter_results': [{'prompt_index': 0, 'content_filter_results': {'hate': {'filtered': False, 'severity': 'safe'}, 'self_harm': {'filtered': False, 'severity': 'safe'}, 'sexual': {'filtered': False, 'severity': 'safe'}, 'violence': {'filtered': False, 'severity': 'safe'}}}], 'finish_reason': 'tool_calls', 'logprobs': None, 'content_filter_results': {}}, id='run-4f2373d1-3114-4020-9351-67730ff6b2ed-0', tool_calls=[{'name': 'fake_weather_api', 'args': {'city': 'Munich'}, 'id': 'call_NwWuxGDUl6Osbb7l1VzlDOUE', 'type': 'tool_call'}], usage_metadata={'input_tokens': 94, 'output_tokens': 16, 'total_tokens': 110})], 'api_call_count': 0}\n",
      "Tool output: Sunny, 22°C\n",
      "API call count after this tool call: 1\n",
      "STATE: {'messages': [SystemMessage(content='You are responsible for answering user questions. You use tools for that, These tools sometimes fail and you are very resilient and trying them again'), HumanMessage(content='How is the weather in munich today?'), AIMessage(content='', additional_kwargs={'tool_calls': [{'id': 'call_NwWuxGDUl6Osbb7l1VzlDOUE', 'function': {'arguments': '{\"city\":\"Munich\"}', 'name': 'fake_weather_api'}, 'type': 'function'}]}, response_metadata={'token_usage': {'completion_tokens': 16, 'prompt_tokens': 94, 'total_tokens': 110}, 'model_name': 'gpt-4o-2024-05-13', 'system_fingerprint': 'fp_80a1bad4c7', 'prompt_filter_results': [{'prompt_index': 0, 'content_filter_results': {'hate': {'filtered': False, 'severity': 'safe'}, 'self_harm': {'filtered': False, 'severity': 'safe'}, 'sexual': {'filtered': False, 'severity': 'safe'}, 'violence': {'filtered': False, 'severity': 'safe'}}}], 'finish_reason': 'tool_calls', 'logprobs': None, 'content_filter_results': {}}, id='run-4f2373d1-3114-4020-9351-67730ff6b2ed-0', tool_calls=[{'name': 'fake_weather_api', 'args': {'city': 'Munich'}, 'id': 'call_NwWuxGDUl6Osbb7l1VzlDOUE', 'type': 'tool_call'}], usage_metadata={'input_tokens': 94, 'output_tokens': 16, 'total_tokens': 110}), ToolMessage(content='Sunny, 22°C', tool_call_id='call_NwWuxGDUl6Osbb7l1VzlDOUE'), AIMessage(content='The weather in Munich today is sunny with a temperature of 22°C. Enjoy your day!', response_metadata={'token_usage': {'completion_tokens': 20, 'prompt_tokens': 124, 'total_tokens': 144}, 'model_name': 'gpt-4o-2024-05-13', 'system_fingerprint': 'fp_80a1bad4c7', 'prompt_filter_results': [{'prompt_index': 0, 'content_filter_results': {'hate': {'filtered': False, 'severity': 'safe'}, 'self_harm': {'filtered': False, 'severity': 'safe'}, 'sexual': {'filtered': False, 'severity': 'safe'}, 'violence': {'filtered': False, 'severity': 'safe'}}}], 'finish_reason': 'stop', 'logprobs': None, 'content_filter_results': {'hate': {'filtered': False, 'severity': 'safe'}, 'self_harm': {'filtered': False, 'severity': 'safe'}, 'sexual': {'filtered': False, 'severity': 'safe'}, 'violence': {'filtered': False, 'severity': 'safe'}}}, id='run-c38a2c9b-19b1-4bd6-997f-d8bec466d8f0-0', usage_metadata={'input_tokens': 124, 'output_tokens': 20, 'total_tokens': 144})], 'api_call_count': 1}\n"
     ]
    }
   ],
   "source": [
    "from langchain_core.messages import SystemMessage\n",
    "\n",
    "system_message = SystemMessage(\n",
    "    content=\"You are responsible for answering user questions. You use tools for that, These tools sometimes fail and you are very resilient and trying them again\"\n",
    ")\n",
    "human_message = HumanMessage(content=\"How is the weather in munich today?\")\n",
    "messages = [system_message, human_message]\n",
    "\n",
    "result = app.invoke({\"messages\": messages, \"api_call_count\": 0})"
   ]
  },
  {
   "cell_type": "code",
   "execution_count": 27,
   "metadata": {},
   "outputs": [
    {
     "name": "stdout",
     "output_type": "stream",
     "text": [
      "The weather in Munich today is sunny with a temperature of 22°C. Enjoy your day!\n",
      "1\n"
     ]
    }
   ],
   "source": [
    "print(result[\"messages\"][-1].content)\n",
    "print(result[\"api_call_count\"])"
   ]
  },
  {
   "cell_type": "code",
   "execution_count": null,
   "metadata": {},
   "outputs": [],
   "source": []
  },
  {
   "cell_type": "markdown",
   "metadata": {},
   "source": [
    " Lets use RAG pipeline for LCEL and LangGraph"
   ]
  },
  {
   "cell_type": "code",
   "execution_count": 28,
   "metadata": {},
   "outputs": [],
   "source": [
    "from langchain.schema import Document\n",
    "from langchain_openai import AzureOpenAIEmbeddings\n",
    "from langchain_community.vectorstores import Chroma\n",
    "from langchain_core.runnables import RunnablePassthrough\n",
    "from langchain_core.output_parsers import StrOutputParser\n",
    "from langchain_core.prompts import ChatPromptTemplate\n",
    "\n",
    "embedding_function = AzureOpenAIEmbeddings(\n",
    "    azure_endpoint=os.getenv(\"AZURE_OPENAI_ENDPOINT\"),\n",
    "    model=\"text-embedding-3-small\",\n",
    "    azure_deployment=\"pt-sm-embd\"\n",
    ")\n",
    "\n",
    "docs = [\n",
    "    Document(\n",
    "        page_content=\"the dog loves to eat pizza\", metadata={\"source\":\"animal.txt\"}\n",
    "\n",
    "    ),\n",
    "    Document(\n",
    "        page_content=\"the cat loves to eat lasanga\", metadata={\"source\":\"animal.txt\"}\n",
    "\n",
    "    )\n",
    "]\n",
    "\n",
    "vectorDB = Chroma.from_documents(docs, embedding_function)\n",
    "\n",
    "retriever = vectorDB.as_retriever(search_kwargs={\"k\":2})\n",
    "\n",
    "def format_docs(docs):\n",
    "    return \"\\n\\n\" .join(doc.page_content for doc in docs)"
   ]
  },
  {
   "cell_type": "code",
   "execution_count": 29,
   "metadata": {},
   "outputs": [],
   "source": [
    "template = \"\"\"\n",
    "Answer the question based only on the following context:\n",
    "{context}\n",
    "\n",
    "Question: {question}\n",
    "\"\"\"\n",
    "\n",
    "prompt = ChatPromptTemplate.from_template(template)\n",
    "\n",
    "retrieval_chain = (\n",
    "    ### In this retrieval chain the origin line (below) creates a RunnableParallel which passes the original question unchanged to both elements\n",
    "    {\"context\":retriever | format_docs, \"question\":RunnablePassthrough()} \n",
    "    | prompt \n",
    "    | llm \n",
    "    | StrOutputParser()\n",
    ")\n",
    "\n",
    "## this is an example of a DAG workflow > direct acyclic graph"
   ]
  },
  {
   "cell_type": "code",
   "execution_count": 30,
   "metadata": {},
   "outputs": [
    {
     "data": {
      "text/plain": [
       "'The cat loves to eat lasagna.'"
      ]
     },
     "execution_count": 30,
     "metadata": {},
     "output_type": "execute_result"
    }
   ],
   "source": [
    "retrieval_chain.invoke(input=\"What food does the cat like?\")"
   ]
  },
  {
   "cell_type": "code",
   "execution_count": 31,
   "metadata": {},
   "outputs": [],
   "source": [
    "### In LangGraph we dont need the RAG pipeline, only need the prompt, the model and the outputparser\n",
    "from typing import TypedDict\n",
    "from langchain_core.messages import BaseMessage\n",
    "\n",
    "chain_with_prompt = prompt | llm | StrOutputParser()"
   ]
  },
  {
   "cell_type": "code",
   "execution_count": 32,
   "metadata": {},
   "outputs": [],
   "source": [
    "class AgentState(TypedDict):\n",
    "    \"\"\"\n",
    "    Defining the agent state where it shows the data to be retrieved\n",
    "    \"\"\"\n",
    "    question: str\n",
    "    raw_docs: list[BaseMessage]\n",
    "    formatted_docs: list[str]\n",
    "    generation: str\n",
    "\n",
    "# \"\"\"\n",
    "# This is one of the main differences of LCEL, is that everything is stored in a central place aka the AgentState.\n",
    "\n",
    "# In LCEL we just pass in data through a pipeline. Here we store it in a central agent state.\n",
    "\n",
    "# LangGraph also works with nodes and edges, so each function we have will be assigned to a node which is executed. \n",
    "\n",
    "# #### LANGGRAPH\n",
    "\n",
    "# So for each step (NODE) we have to provide a function > which uses the STATE> and does something with it and at the end returns the STATE\n",
    "\n",
    "# \"\"\""
   ]
  },
  {
   "cell_type": "code",
   "execution_count": 33,
   "metadata": {},
   "outputs": [],
   "source": [
    "def get_docs(state: AgentState):\n",
    "    print(\"get_docs:\", state)\n",
    "    question = state[\"question\"]\n",
    "    docs = retriever.invoke(question)\n",
    "    state[\"raw_docs\"] = docs\n",
    "    return state\n",
    "\n",
    "def format_docs(state: AgentState):\n",
    "    print(\"format_docs:\", state)\n",
    "    documents = state[\"raw_docs\"]\n",
    "    state[\"formatted_docs\"] = \"\\n\\n\".join(doc.page_content for doc in documents)\n",
    "    return state\n",
    "\n",
    "def generate(state: AgentState):\n",
    "    print(\"generate:\", state)\n",
    "    ## we need to extract all the parameters to give it to the LLM\n",
    "    question = state[\"question\"]\n",
    "    formatted_docs = state[\"formatted_docs\"]\n",
    "    result = chain_with_prompt.invoke({\"question\":question, \"context\":formatted_docs})\n",
    "    state[\"generation\"] = result\n",
    "    return state"
   ]
  },
  {
   "cell_type": "code",
   "execution_count": 34,
   "metadata": {},
   "outputs": [],
   "source": [
    "### NOW IN LANGGRAPH WE DEFINE THE WORKFLOW \n",
    "\n",
    "from langgraph.graph import StateGraph, END\n",
    "\n",
    "workflow = StateGraph(AgentState)\n",
    "\n",
    "### EVERY NODE HAS A KEY AND A FUNCTION WHICH IS RUN\n",
    "\n",
    "workflow.add_node(\"get_docs\",get_docs)\n",
    "workflow.add_node(\"format_docs\",format_docs)\n",
    "workflow.add_node(\"generate\", generate)\n",
    "\n",
    "workflow.add_edge(\"get_docs\",\"format_docs\")\n",
    "workflow.add_edge(\"format_docs\",\"generate\")\n",
    "workflow.add_edge(\"generate\",END)\n",
    "\n",
    "workflow.set_entry_point(\"get_docs\")\n",
    "\n",
    "app = workflow.compile()\n",
    "\n"
   ]
  },
  {
   "cell_type": "code",
   "execution_count": 35,
   "metadata": {},
   "outputs": [
    {
     "data": {
      "image/jpeg": "[encoded data removed]",
      "text/plain": [
       "<IPython.core.display.Image object>"
      ]
     },
     "metadata": {},
     "output_type": "display_data"
    }
   ],
   "source": [
    "from IPython.display import Image, display\n",
    "\n",
    "try:\n",
    "    display(Image(app.get_graph(xray=True).draw_mermaid_png()))\n",
    "except:\n",
    "    pass"
   ]
  },
  {
   "cell_type": "code",
   "execution_count": 36,
   "metadata": {},
   "outputs": [
    {
     "name": "stdout",
     "output_type": "stream",
     "text": [
      "get_docs: {'question': 'what food does the cat like?', 'raw_docs': None, 'formatted_docs': None, 'generation': None}\n",
      "format_docs: {'question': 'what food does the cat like?', 'raw_docs': [Document(metadata={'source': 'animal.txt'}, page_content='the cat loves to eat lasanga'), Document(metadata={'source': 'animal.txt'}, page_content='the dog loves to eat pizza')], 'formatted_docs': None, 'generation': None}\n",
      "generate: {'question': 'what food does the cat like?', 'raw_docs': [Document(metadata={'source': 'animal.txt'}, page_content='the cat loves to eat lasanga'), Document(metadata={'source': 'animal.txt'}, page_content='the dog loves to eat pizza')], 'formatted_docs': 'the cat loves to eat lasanga\\n\\nthe dog loves to eat pizza', 'generation': None}\n"
     ]
    },
    {
     "data": {
      "text/plain": [
       "{'question': 'what food does the cat like?',\n",
       " 'raw_docs': [Document(metadata={'source': 'animal.txt'}, page_content='the cat loves to eat lasanga'),\n",
       "  Document(metadata={'source': 'animal.txt'}, page_content='the dog loves to eat pizza')],\n",
       " 'formatted_docs': 'the cat loves to eat lasanga\\n\\nthe dog loves to eat pizza',\n",
       " 'generation': 'The cat loves to eat lasagna.'}"
      ]
     },
     "execution_count": 36,
     "metadata": {},
     "output_type": "execute_result"
    }
   ],
   "source": [
    "result = app.invoke({\"question\":\"what food does the cat like?\"})\n",
    "\n",
    "result"
   ]
  },
  {
   "cell_type": "code",
   "execution_count": 37,
   "metadata": {},
   "outputs": [
    {
     "data": {
      "text/plain": [
       "'The cat loves to eat lasagna.'"
      ]
     },
     "execution_count": 37,
     "metadata": {},
     "output_type": "execute_result"
    }
   ],
   "source": [
    "result['generation']"
   ]
  },
  {
   "cell_type": "code",
   "execution_count": 38,
   "metadata": {},
   "outputs": [
    {
     "data": {
      "text/plain": [
       "'\\nLanggraph could be superior if we wanted to include the documents of the RAG pipeline in the output of the RAG pipeline. \\nIn Langgraph we can just access the state at any point. \\nLCEL chains are very hard to debug and hard to unit test as every node has just a single function or runnable and ONLY works with the STATE.\\nThis is everything you want if you want to design larger software.\\n'"
      ]
     },
     "execution_count": 38,
     "metadata": {},
     "output_type": "execute_result"
    }
   ],
   "source": [
    "### LangChain team recommends that we use a LCEL if we need a DAG workflow and use LangGraph if we need cycles in a workflow.result\n",
    "# Therefore for the above pipeline we RAG pipeline which clearly needs a DAG (direct acyclic graph) workflow\n",
    "\n",
    "\"\"\"\n",
    "Langgraph could be superior if we wanted to include the documents of the RAG pipeline in the output of the RAG pipeline. \n",
    "In Langgraph we can just access the state at any point. \n",
    "LCEL chains are very hard to debug and hard to unit test as every node has just a single function or runnable and ONLY works with the STATE.\n",
    "This is everything you want if you want to design larger software.\n",
    "\"\"\""
   ]
  },
  {
   "cell_type": "code",
   "execution_count": 39,
   "metadata": {},
   "outputs": [],
   "source": [
    "### We will create and agent system where we have multiple autonomous agents when LLM is a key part of each agent"
   ]
  },
  {
   "cell_type": "markdown",
   "metadata": {},
   "source": []
  },
  {
   "cell_type": "markdown",
   "metadata": {},
   "source": [
    "### Team of Agents with a Supervisor"
   ]
  },
  {
   "cell_type": "code",
   "execution_count": 49,
   "metadata": {},
   "outputs": [],
   "source": [
    "# Imports \n",
    "from langchain_openai import AzureChatOpenAI\n",
    "from langchain_core.prompts import ChatPromptTemplate\n",
    "from langchain_core.pydantic_v1 import BaseModel, Field\n",
    "\n",
    "## Lets start by implementing the Evaluator agent.\n",
    "# this agent is responsible for telling the next agent if an article is worthy or relevant to be posted or not\n",
    "# we are going make this by using a structured output and use a pydantic class here\n",
    "# THIS IS BECAUSE FOR THIS WE ARE USING ROUTING - using function calling and not semantic routing\n",
    "\n",
    "class TransferNewsGrader(BaseModel):\n",
    "    \"\"\" Binary score for relevance check on football transfer news\"\"\"\n",
    "    binary_score: str = Field(\n",
    "        ### this is what we are going to get back from the LLM\n",
    "        description=\"The article is about football transfers, 'yes' or 'no'\"\n",
    "    )\n",
    "\n",
    "structured_llm_grader = llm.with_structured_output(TransferNewsGrader)\n",
    "\n",
    "system = \"\"\" You are a grader assessing whether a news article concerns a football transfer \\n\n",
    "Check if the article explicitly mentions player transfer between clubs, potential transfers or confirmed transfers. \\n\n",
    "Provide a binary score 'yes' or 'no' to indicate whether the news us about football transfer. \"\"\"\n",
    "\n",
    "grade_prompt = ChatPromptTemplate.from_messages(\n",
    "    [\n",
    "        (\"system\",system),\n",
    "        (\"human\", \"News Article: \\n\\n {article}\")\n",
    "    ]\n",
    ")\n",
    "\n",
    "evaluator = grade_prompt | structured_llm_grader"
   ]
  },
  {
   "cell_type": "code",
   "execution_count": 53,
   "metadata": {},
   "outputs": [],
   "source": [
    "result = evaluator.invoke(\"There is are some rumours that Messi will switch from Real Madrid to FC Barcelona\")"
   ]
  },
  {
   "cell_type": "code",
   "execution_count": 55,
   "metadata": {},
   "outputs": [],
   "source": [
    "result = evaluator.invoke(\"its my birthday tomorrow\")"
   ]
  },
  {
   "cell_type": "code",
   "execution_count": 56,
   "metadata": {},
   "outputs": [
    {
     "data": {
      "text/plain": [
       "'no'"
      ]
     },
     "execution_count": 56,
     "metadata": {},
     "output_type": "execute_result"
    }
   ],
   "source": [
    "result.binary_score"
   ]
  },
  {
   "cell_type": "code",
   "execution_count": 58,
   "metadata": {},
   "outputs": [],
   "source": [
    "## Now we can continue with the News Chef who is responsible for evaluating if an article is ready to be posted\n",
    "\n",
    "class ArticlePostabilityGrader(BaseModel):\n",
    "    \"\"\" Binary scores for postability check, word count, sensationalism, and language translation of a news article\"\"\"\n",
    "\n",
    "    can_be_posted: str = Field(\n",
    "        description=\"The article is ready to post 'yes' or 'no'\"\n",
    "    )\n",
    "    meets_word_count: str = Field(\n",
    "        description=\"The article is has at least 200 words, 'yes' or 'no'\"\n",
    "    )\n",
    "    is_sensationalistic: str = Field(\n",
    "        description=\"The article is written in a sensationalistic style, 'yes' or 'no'\"\n",
    "    )\n",
    "    is_language_english: str = Field(\n",
    "        description=\"The language of the article is English, 'yes' or 'no'\"\n",
    "    )\n",
    "\n",
    "llm_postability = llm.with_structured_output(ArticlePostabilityGrader)\n",
    "\n",
    "postability_system = \"\"\"You are a grader assessing whether a news article is ready to be posted, if it meets the minimum word count of 200 words, is written in a sensationalistic style, and if it is in a language other than English. \\n\n",
    "    Evaluate the article for grammatical errors, completeness, appropriateness for publication, and EXAGERATED sensationalism. \\n\n",
    "    Also, confirm if the language used in the article is English and it meets the word count requirement. \\n\n",
    "    Provide four binary scores: one to indicate if the article can be posted ('yes' or 'no'), one for adequate word count ('yes' or 'no'), one for sensationalistic writing ('yes' or 'no'), and another if the language is not English ('yes' or 'no').\"\"\"\n",
    "postability_grade_prompt = ChatPromptTemplate.from_messages(\n",
    "    [(\"system\", postability_system), (\"human\", \"News Article:\\n\\n {article}\")]\n",
    ")\n",
    "\n",
    "news_chef = postability_grade_prompt | llm_postability\n",
    "\n",
    "# result = news_chef.invoke(\n",
    "#     {\n",
    "#         \"article\": \"Es wurde gemeldet, dass Messi von Real Madrid zu FC Barcelona wechselt.\"\n",
    "#     }\n",
    "# )\n"
   ]
  },
  {
   "cell_type": "code",
   "execution_count": 59,
   "metadata": {},
   "outputs": [],
   "source": [
    "result = news_chef.invoke(\"Es wurde gemeldet, dass Messi von Real Madrid zu FC Barcelona wechselt.\")"
   ]
  },
  {
   "cell_type": "code",
   "execution_count": 60,
   "metadata": {},
   "outputs": [
    {
     "data": {
      "text/plain": [
       "ArticlePostabilityGrader(can_be_posted='no', meets_word_count='no', is_sensationalistic='yes', is_language_english='no')"
      ]
     },
     "execution_count": 60,
     "metadata": {},
     "output_type": "execute_result"
    }
   ],
   "source": [
    "result"
   ]
  },
  {
   "cell_type": "code",
   "execution_count": 67,
   "metadata": {},
   "outputs": [
    {
     "name": "stdout",
     "output_type": "stream",
     "text": [
      "content='It has been reported that Messi is transferring from Real Madrid to FC Barcelona.' response_metadata={'token_usage': {'completion_tokens': 15, 'prompt_tokens': 58, 'total_tokens': 73}, 'model_name': 'gpt-4o-2024-05-13', 'system_fingerprint': 'fp_80a1bad4c7', 'prompt_filter_results': [{'prompt_index': 0, 'content_filter_results': {'hate': {'filtered': False, 'severity': 'safe'}, 'self_harm': {'filtered': False, 'severity': 'safe'}, 'sexual': {'filtered': False, 'severity': 'safe'}, 'violence': {'filtered': False, 'severity': 'safe'}}}], 'finish_reason': 'stop', 'logprobs': None, 'content_filter_results': {'hate': {'filtered': False, 'severity': 'safe'}, 'self_harm': {'filtered': False, 'severity': 'safe'}, 'sexual': {'filtered': False, 'severity': 'safe'}, 'violence': {'filtered': False, 'severity': 'safe'}}} id='run-cec19ee4-b884-45cf-94e6-3257e09cfb30-0' usage_metadata={'input_tokens': 58, 'output_tokens': 15, 'total_tokens': 73}\n"
     ]
    }
   ],
   "source": [
    "llm_translation_agent = llm\n",
    "\n",
    "translation_system = \"\"\" You are a multilingual language expert, who can translate anything to English. Translate the text accurately while maintaining the original tone and style.\"\"\"\n",
    "translation_prompt = ChatPromptTemplate.from_messages(\n",
    "    [\n",
    "        (\"system\", translation_system),\n",
    "        (\"human\",\"Article to translate: \\n\\n {article}\")\n",
    "    ]\n",
    ")\n",
    "\n",
    "translator = translation_prompt | llm_translation_agent\n",
    "\n",
    "result = translator.invoke({\"article\":\"Es wurde gemeldet, dass Messi von Real Madrid zu FC Barcelona wechselt.\"})\n",
    "\n",
    "print(result)"
   ]
  },
  {
   "cell_type": "code",
   "execution_count": 77,
   "metadata": {},
   "outputs": [
    {
     "name": "stdout",
     "output_type": "stream",
     "text": [
      "content=\"It has been reported that Messi is transferring from Real Madrid to FC Barcelona. This news has sent shockwaves through the football community, as Messi has long been associated with FC Barcelona, where he spent the majority of his illustrious career before moving to Paris Saint-Germain (PSG). The idea of Messi playing for Real Madrid, Barcelona's arch-rival, was almost unthinkable for many fans. \\n\\nHowever, recent developments suggest that Messi's journey has taken yet another unexpected turn. The transfer back to FC Barcelona is seen as a homecoming for the Argentine superstar, who has won numerous titles and accolades with the Catalan club. His return is expected to rejuvenate the team, which has been struggling to find its footing in recent seasons.\\n\\nThe transfer has also sparked a flurry of activity in the football transfer market, with analysts speculating on how this move will impact other clubs and players. Messi's presence in La Liga is anticipated to boost viewership and bring a renewed sense of excitement to the league. \\n\\nFans are eagerly awaiting official confirmation and are already imagining the magic Messi will bring back to Camp Nou. Social media is abuzz with reactions, ranging from disbelief to ecstatic joy. This transfer could very well be one of the most significant events in football history, marking a new chapter in Messi's storied career.\" response_metadata={'token_usage': {'completion_tokens': 266, 'prompt_tokens': 57, 'total_tokens': 323}, 'model_name': 'gpt-4o-2024-05-13', 'system_fingerprint': 'fp_80a1bad4c7', 'prompt_filter_results': [{'prompt_index': 0, 'content_filter_results': {'hate': {'filtered': False, 'severity': 'safe'}, 'self_harm': {'filtered': False, 'severity': 'safe'}, 'sexual': {'filtered': False, 'severity': 'safe'}, 'violence': {'filtered': False, 'severity': 'safe'}}}], 'finish_reason': 'stop', 'logprobs': None, 'content_filter_results': {'hate': {'filtered': False, 'severity': 'safe'}, 'self_harm': {'filtered': False, 'severity': 'safe'}, 'sexual': {'filtered': False, 'severity': 'safe'}, 'violence': {'filtered': False, 'severity': 'safe'}}} id='run-0770a501-c8fe-4b90-a41f-62e55b71ed97-0' usage_metadata={'input_tokens': 57, 'output_tokens': 266, 'total_tokens': 323}\n"
     ]
    }
   ],
   "source": [
    "llm_expander_agent = llm\n",
    "\n",
    "expansion_system = \"\"\"You are a writer tasked with expanding the given article to at least 200 words while maintaining relevance, coherence, and the original tone.\"\"\"\n",
    "expansion_prompt = ChatPromptTemplate.from_messages(\n",
    "    [\n",
    "        (\"system\",expansion_system),\n",
    "        (\"human\", \"Original article: \\n\\n {article}\")\n",
    "    ]\n",
    ")\n",
    "\n",
    "expander = expansion_prompt | llm_expander_agent\n",
    "\n",
    "result = expander.invoke({\"article\":\"It has been reported that Messi is transferring from Real Madrid to FC Barcelona.\"})\n",
    "\n",
    "print(result)"
   ]
  },
  {
   "cell_type": "code",
   "execution_count": 61,
   "metadata": {},
   "outputs": [],
   "source": [
    "### Now we have all of the agents and we can put them into an Agentic Workflow\n",
    "\n",
    "from langgraph.graph import StateGraph, END\n",
    "from typing import TypedDict, Literal\n",
    "\n",
    "### this is fairly simple because we always only have an article state which gets evaluated. \n",
    "# We dont need any more attributes than this article state.\n",
    "class AgentState(TypedDict):\n",
    "    article_state:str"
   ]
  },
  {
   "cell_type": "code",
   "execution_count": 73,
   "metadata": {},
   "outputs": [],
   "source": [
    "### Now we will have to define some functions which will be used in the NODES of LangGraph\n",
    "\n",
    "## This is the News Chef, doesn't do anything with the state \n",
    "## so again we pass the state argument and return the same state as before\n",
    "def get_transfer_news_grade(state: AgentState) -> AgentState:\n",
    "    print(f\"get_transfer_news_grade: Current state:{state}\")\n",
    "    print(\"Evaluator: Reading the article but doing nothing to change it...\")\n",
    "    return state\n",
    "\n",
    "## This is the News Chef, doesn't do anything with the state \n",
    "## so again we pass the state argument and return the same state as before\n",
    "def evaluate_article(state: AgentState) -> AgentState:\n",
    "    print(f\"evaluate_article: Current state:{state}\")\n",
    "    print(\"Evaluator: Reading the article but doing nothing to change it...\")\n",
    "    return state\n",
    "\n",
    "def translate_article(state: AgentState) -> AgentState:\n",
    "    print(f\"translate_article: Current state:{state}\")\n",
    "    article = state[\"article_state\"]\n",
    "    result = translator.invoke({\"article\":article})\n",
    "    state[\"article_state\"] = result\n",
    "    return state\n",
    "\n",
    "def expand_article(state: AgentState) -> AgentState:\n",
    "    print(f\"expand_article: Current state:{state}\")\n",
    "    article = state[\"article_state\"]\n",
    "    result = expander.invoke({\"article\":article})\n",
    "    state[\"article_state\"] = result\n",
    "    return state"
   ]
  },
  {
   "cell_type": "code",
   "execution_count": 74,
   "metadata": {},
   "outputs": [],
   "source": [
    "def publisher(state: AgentState) -> AgentState:\n",
    "    print(f\"publisher: Current state: {state}\")\n",
    "    print(\"FINAL_STATE in publisher:\", state)\n",
    "    return state"
   ]
  },
  {
   "cell_type": "code",
   "execution_count": null,
   "metadata": {},
   "outputs": [],
   "source": [
    "\"\"\" \n",
    "So far we've only created functions which changed the state, but now we have to use functions where are used in the condition edges.\n",
    "These functions DO NOT return a state but return a string and based on the output of the router function >\n",
    "It determines the next action in the Agent workflow.\n",
    "\n",
    "\"\"\""
   ]
  },
  {
   "cell_type": "code",
   "execution_count": 76,
   "metadata": {},
   "outputs": [],
   "source": [
    "## Evaluator router\n",
    "def evaluator_router(state: AgentState) -> Literal[\"news_chef\",\"not_relevant\"]:\n",
    "    article = state[\"article_state\"]\n",
    "    evaluator = grade_prompt | structured_llm_grader\n",
    "    result = evaluator.invoke({\"article\":article})\n",
    "    print(f\"evaluator_router: Current state:{state}\")\n",
    "    print(\"Evaluator result:\", result)\n",
    "    if result.binary_score == 'yes':\n",
    "        return \"news_chef\"\n",
    "    else:\n",
    "        return \"not_relevant\""
   ]
  },
  {
   "cell_type": "code",
   "execution_count": 85,
   "metadata": {},
   "outputs": [],
   "source": [
    "## News chef router, this evaluates if there are enough words in the article and or if it needs to be translated\n",
    "\n",
    "def news_chef_router(state: AgentState) -> Literal[\"translator\",\"expander\",\"publisher\"]:\n",
    "    article = state[\"article_state\"]\n",
    "    result = news_chef.invoke({\"article\":article})\n",
    "    print(f\"news_chef_router: Current state: {state}\")\n",
    "    print(f\"News chef result:\", result)\n",
    "    if result.can_be_posted == 'yes':\n",
    "        return \"publisher\"\n",
    "    elif result.is_language_english == 'yes':\n",
    "        if result.meets_word_count == 'no' or result.is_sensationalistic == 'no':\n",
    "            return \"expander\"\n",
    "    return \"translator\""
   ]
  },
  {
   "cell_type": "code",
   "execution_count": 91,
   "metadata": {},
   "outputs": [],
   "source": [
    "workflow = StateGraph(AgentState)\n",
    "\n",
    "workflow.add_node(\"evaluator\",get_transfer_news_grade)\n",
    "workflow.add_node(\"news_chef\",evaluate_article)\n",
    "workflow.add_node(\"translator\",translate_article)\n",
    "workflow.add_node(\"expander\",expand_article)\n",
    "workflow.add_node(\"publisher\",publisher)\n",
    "\n",
    "workflow.set_entry_point(\"evaluator\")\n",
    "\n",
    "workflow.add_conditional_edges(\n",
    "    \"evaluator\",\n",
    "    evaluator_router,\n",
    "    # the key is the what the routing function is returning and the value is the name of the node we should\n",
    "    # point to should the evaluator as us to do so.\n",
    "    {\"news_chef\":\"news_chef\", \"not_relevant\":END}\n",
    ")\n",
    "\n",
    "workflow.add_conditional_edges(\n",
    "    \"news_chef\",\n",
    "    news_chef_router,\n",
    "    {\"expander\":\"expander\",\"translator\":\"translator\",\"publisher\":\"publisher\"}\n",
    ")\n",
    "\n",
    "workflow.add_edge(\"expander\",\"news_chef\")\n",
    "workflow.add_edge(\"translator\",\"news_chef\")\n",
    "workflow.add_edge(\"publisher\",END)\n",
    "\n",
    "app = workflow.compile()"
   ]
  },
  {
   "cell_type": "code",
   "execution_count": 92,
   "metadata": {},
   "outputs": [
    {
     "data": {
      "image/jpeg": "[encoded data removed]",
      "text/plain": [
       "<IPython.core.display.Image object>"
      ]
     },
     "metadata": {},
     "output_type": "display_data"
    }
   ],
   "source": [
    "from IPython.display import Image, display\n",
    "\n",
    "try:\n",
    "    display(Image(app.get_graph(xray=True).draw_mermaid_png()))\n",
    "except:\n",
    "    pass"
   ]
  },
  {
   "cell_type": "code",
   "execution_count": 97,
   "metadata": {},
   "outputs": [
    {
     "name": "stdout",
     "output_type": "stream",
     "text": [
      "get_transfer_news_grade: Current state:{'article_state': 'Es wurde gemeldet, dass Messi von PSG zu Real Madrid wechselt.'}\n",
      "Evaluator: Reading the article but doing nothing to change it...\n",
      "evaluator_router: Current state:{'article_state': 'Es wurde gemeldet, dass Messi von PSG zu Real Madrid wechselt.'}\n",
      "Evaluator result: binary_score='yes'\n",
      "evaluate_article: Current state:{'article_state': 'Es wurde gemeldet, dass Messi von PSG zu Real Madrid wechselt.'}\n",
      "Evaluator: Reading the article but doing nothing to change it...\n",
      "news_chef_router: Current state: {'article_state': 'Es wurde gemeldet, dass Messi von PSG zu Real Madrid wechselt.'}\n",
      "News chef result: can_be_posted='no' meets_word_count='no' is_sensationalistic='no' is_language_english='no'\n",
      "translate_article: Current state:{'article_state': 'Es wurde gemeldet, dass Messi von PSG zu Real Madrid wechselt.'}\n",
      "evaluate_article: Current state:{'article_state': AIMessage(content='It has been reported that Messi is moving from PSG to Real Madrid.', response_metadata={'token_usage': {'completion_tokens': 14, 'prompt_tokens': 57, 'total_tokens': 71}, 'model_name': 'gpt-4o-2024-05-13', 'system_fingerprint': 'fp_80a1bad4c7', 'prompt_filter_results': [{'prompt_index': 0, 'content_filter_results': {'hate': {'filtered': False, 'severity': 'safe'}, 'self_harm': {'filtered': False, 'severity': 'safe'}, 'sexual': {'filtered': False, 'severity': 'safe'}, 'violence': {'filtered': False, 'severity': 'safe'}}}], 'finish_reason': 'stop', 'logprobs': None, 'content_filter_results': {'hate': {'filtered': False, 'severity': 'safe'}, 'self_harm': {'filtered': False, 'severity': 'safe'}, 'sexual': {'filtered': False, 'severity': 'safe'}, 'violence': {'filtered': False, 'severity': 'safe'}}}, id='run-f0415031-87ab-4529-8015-b0353d10d8cb-0', usage_metadata={'input_tokens': 57, 'output_tokens': 14, 'total_tokens': 71})}\n",
      "Evaluator: Reading the article but doing nothing to change it...\n",
      "news_chef_router: Current state: {'article_state': AIMessage(content='It has been reported that Messi is moving from PSG to Real Madrid.', response_metadata={'token_usage': {'completion_tokens': 14, 'prompt_tokens': 57, 'total_tokens': 71}, 'model_name': 'gpt-4o-2024-05-13', 'system_fingerprint': 'fp_80a1bad4c7', 'prompt_filter_results': [{'prompt_index': 0, 'content_filter_results': {'hate': {'filtered': False, 'severity': 'safe'}, 'self_harm': {'filtered': False, 'severity': 'safe'}, 'sexual': {'filtered': False, 'severity': 'safe'}, 'violence': {'filtered': False, 'severity': 'safe'}}}], 'finish_reason': 'stop', 'logprobs': None, 'content_filter_results': {'hate': {'filtered': False, 'severity': 'safe'}, 'self_harm': {'filtered': False, 'severity': 'safe'}, 'sexual': {'filtered': False, 'severity': 'safe'}, 'violence': {'filtered': False, 'severity': 'safe'}}}, id='run-f0415031-87ab-4529-8015-b0353d10d8cb-0', usage_metadata={'input_tokens': 57, 'output_tokens': 14, 'total_tokens': 71})}\n",
      "News chef result: can_be_posted='no' meets_word_count='no' is_sensationalistic='no' is_language_english='yes'\n",
      "expand_article: Current state:{'article_state': AIMessage(content='It has been reported that Messi is moving from PSG to Real Madrid.', response_metadata={'token_usage': {'completion_tokens': 14, 'prompt_tokens': 57, 'total_tokens': 71}, 'model_name': 'gpt-4o-2024-05-13', 'system_fingerprint': 'fp_80a1bad4c7', 'prompt_filter_results': [{'prompt_index': 0, 'content_filter_results': {'hate': {'filtered': False, 'severity': 'safe'}, 'self_harm': {'filtered': False, 'severity': 'safe'}, 'sexual': {'filtered': False, 'severity': 'safe'}, 'violence': {'filtered': False, 'severity': 'safe'}}}], 'finish_reason': 'stop', 'logprobs': None, 'content_filter_results': {'hate': {'filtered': False, 'severity': 'safe'}, 'self_harm': {'filtered': False, 'severity': 'safe'}, 'sexual': {'filtered': False, 'severity': 'safe'}, 'violence': {'filtered': False, 'severity': 'safe'}}}, id='run-f0415031-87ab-4529-8015-b0353d10d8cb-0', usage_metadata={'input_tokens': 57, 'output_tokens': 14, 'total_tokens': 71})}\n",
      "evaluate_article: Current state:{'article_state': AIMessage(content=\"It has been reported that Messi is moving from PSG to Real Madrid. This news has sent shockwaves through the football community, as Messi's transfer decisions are always highly anticipated and closely scrutinized. The Argentine superstar, who joined Paris Saint-Germain (PSG) in 2021 after a long and illustrious career at FC Barcelona, has been a pivotal player for the French club. His potential move to Real Madrid, one of Barcelona's fiercest rivals, adds an extra layer of intrigue and drama to the story.\\n\\nMessi's time at PSG has been marked by impressive performances, including key goals and assists that have helped the team in both domestic and European competitions. However, rumors of his dissatisfaction and desire for a new challenge have been circulating for some time. Real Madrid, known for its rich history and success in European football, could provide the fresh start Messi is looking for.\\n\\nThe transfer, if confirmed, would not only be a significant shift in Messi's career but also a major event in the football world. It would reignite the historic rivalry between Real Madrid and Barcelona, with Messi now on the opposite side. Fans and analysts alike are eagerly awaiting official confirmation and further details about the transfer, which could have far-reaching implications for both clubs and the broader football landscape.\", response_metadata={'token_usage': {'completion_tokens': 256, 'prompt_tokens': 325, 'total_tokens': 581}, 'model_name': 'gpt-4o-2024-05-13', 'system_fingerprint': 'fp_80a1bad4c7', 'prompt_filter_results': [{'prompt_index': 0, 'content_filter_results': {'hate': {'filtered': False, 'severity': 'safe'}, 'self_harm': {'filtered': False, 'severity': 'safe'}, 'sexual': {'filtered': False, 'severity': 'safe'}, 'violence': {'filtered': False, 'severity': 'safe'}}}], 'finish_reason': 'stop', 'logprobs': None, 'content_filter_results': {'hate': {'filtered': False, 'severity': 'safe'}, 'self_harm': {'filtered': False, 'severity': 'safe'}, 'sexual': {'filtered': False, 'severity': 'safe'}, 'violence': {'filtered': False, 'severity': 'safe'}}}, id='run-9767f69c-79d2-4eed-8f0d-b1e569e804f4-0', usage_metadata={'input_tokens': 325, 'output_tokens': 256, 'total_tokens': 581})}\n",
      "Evaluator: Reading the article but doing nothing to change it...\n",
      "news_chef_router: Current state: {'article_state': AIMessage(content=\"It has been reported that Messi is moving from PSG to Real Madrid. This news has sent shockwaves through the football community, as Messi's transfer decisions are always highly anticipated and closely scrutinized. The Argentine superstar, who joined Paris Saint-Germain (PSG) in 2021 after a long and illustrious career at FC Barcelona, has been a pivotal player for the French club. His potential move to Real Madrid, one of Barcelona's fiercest rivals, adds an extra layer of intrigue and drama to the story.\\n\\nMessi's time at PSG has been marked by impressive performances, including key goals and assists that have helped the team in both domestic and European competitions. However, rumors of his dissatisfaction and desire for a new challenge have been circulating for some time. Real Madrid, known for its rich history and success in European football, could provide the fresh start Messi is looking for.\\n\\nThe transfer, if confirmed, would not only be a significant shift in Messi's career but also a major event in the football world. It would reignite the historic rivalry between Real Madrid and Barcelona, with Messi now on the opposite side. Fans and analysts alike are eagerly awaiting official confirmation and further details about the transfer, which could have far-reaching implications for both clubs and the broader football landscape.\", response_metadata={'token_usage': {'completion_tokens': 256, 'prompt_tokens': 325, 'total_tokens': 581}, 'model_name': 'gpt-4o-2024-05-13', 'system_fingerprint': 'fp_80a1bad4c7', 'prompt_filter_results': [{'prompt_index': 0, 'content_filter_results': {'hate': {'filtered': False, 'severity': 'safe'}, 'self_harm': {'filtered': False, 'severity': 'safe'}, 'sexual': {'filtered': False, 'severity': 'safe'}, 'violence': {'filtered': False, 'severity': 'safe'}}}], 'finish_reason': 'stop', 'logprobs': None, 'content_filter_results': {'hate': {'filtered': False, 'severity': 'safe'}, 'self_harm': {'filtered': False, 'severity': 'safe'}, 'sexual': {'filtered': False, 'severity': 'safe'}, 'violence': {'filtered': False, 'severity': 'safe'}}}, id='run-9767f69c-79d2-4eed-8f0d-b1e569e804f4-0', usage_metadata={'input_tokens': 325, 'output_tokens': 256, 'total_tokens': 581})}\n",
      "News chef result: can_be_posted='no' meets_word_count='yes' is_sensationalistic='no' is_language_english='yes'\n",
      "expand_article: Current state:{'article_state': AIMessage(content=\"It has been reported that Messi is moving from PSG to Real Madrid. This news has sent shockwaves through the football community, as Messi's transfer decisions are always highly anticipated and closely scrutinized. The Argentine superstar, who joined Paris Saint-Germain (PSG) in 2021 after a long and illustrious career at FC Barcelona, has been a pivotal player for the French club. His potential move to Real Madrid, one of Barcelona's fiercest rivals, adds an extra layer of intrigue and drama to the story.\\n\\nMessi's time at PSG has been marked by impressive performances, including key goals and assists that have helped the team in both domestic and European competitions. However, rumors of his dissatisfaction and desire for a new challenge have been circulating for some time. Real Madrid, known for its rich history and success in European football, could provide the fresh start Messi is looking for.\\n\\nThe transfer, if confirmed, would not only be a significant shift in Messi's career but also a major event in the football world. It would reignite the historic rivalry between Real Madrid and Barcelona, with Messi now on the opposite side. Fans and analysts alike are eagerly awaiting official confirmation and further details about the transfer, which could have far-reaching implications for both clubs and the broader football landscape.\", response_metadata={'token_usage': {'completion_tokens': 256, 'prompt_tokens': 325, 'total_tokens': 581}, 'model_name': 'gpt-4o-2024-05-13', 'system_fingerprint': 'fp_80a1bad4c7', 'prompt_filter_results': [{'prompt_index': 0, 'content_filter_results': {'hate': {'filtered': False, 'severity': 'safe'}, 'self_harm': {'filtered': False, 'severity': 'safe'}, 'sexual': {'filtered': False, 'severity': 'safe'}, 'violence': {'filtered': False, 'severity': 'safe'}}}], 'finish_reason': 'stop', 'logprobs': None, 'content_filter_results': {'hate': {'filtered': False, 'severity': 'safe'}, 'self_harm': {'filtered': False, 'severity': 'safe'}, 'sexual': {'filtered': False, 'severity': 'safe'}, 'violence': {'filtered': False, 'severity': 'safe'}}}, id='run-9767f69c-79d2-4eed-8f0d-b1e569e804f4-0', usage_metadata={'input_tokens': 325, 'output_tokens': 256, 'total_tokens': 581})}\n",
      "evaluate_article: Current state:{'article_state': AIMessage(content=\"It has been reported that Messi is moving from PSG to Real Madrid. This news has sent shockwaves through the football community, as Messi's transfer decisions are always highly anticipated and closely scrutinized. The Argentine superstar, who joined Paris Saint-Germain (PSG) in 2021 after a long and illustrious career at FC Barcelona, has been a pivotal player for the French club. His potential move to Real Madrid, one of Barcelona's fiercest rivals, adds an extra layer of intrigue and drama to the story.\\n\\nMessi's time at PSG has been marked by impressive performances, including key goals and assists that have helped the team in both domestic and European competitions. However, rumors of his dissatisfaction and desire for a new challenge have been circulating for some time. Real Madrid, known for its rich history and success in European football, could provide the fresh start Messi is looking for.\\n\\nThe transfer, if confirmed, would not only be a significant shift in Messi's career but also a major event in the football world. It would reignite the historic rivalry between Real Madrid and Barcelona, with Messi now on the opposite side. Fans and analysts alike are eagerly awaiting official confirmation and further details about the transfer, which could have far-reaching implications for both clubs and the broader football landscape.\\n\\nThe potential move also raises questions about the future dynamics of both teams. For PSG, losing a player of Messi's caliber would be a significant blow, and they would need to find a suitable replacement to maintain their competitive edge. On the other hand, Real Madrid would be gaining a player with unparalleled skill and experience, which could bolster their chances in both La Liga and the Champions League.\\n\\nMoreover, Messi's transfer could influence other players' decisions and the overall transfer market. His move might set off a chain reaction, with other top players considering their options and possibly seeking new opportunities. The financial aspects of the transfer, including the transfer fee and Messi's salary, would also be a topic of intense discussion, given the economic challenges many clubs are facing.\\n\\nIn conclusion, Messi's potential move from PSG to Real Madrid is more than just a transfer; it's a seismic event in the world of football. It encapsulates the drama, passion, and unpredictability that make the sport so captivating. As the football world holds its breath, the anticipation builds, and the impact of this transfer will be felt for years to come.\", response_metadata={'token_usage': {'completion_tokens': 479, 'prompt_tokens': 576, 'total_tokens': 1055}, 'model_name': 'gpt-4o-2024-05-13', 'system_fingerprint': 'fp_80a1bad4c7', 'prompt_filter_results': [{'prompt_index': 0, 'content_filter_results': {'hate': {'filtered': False, 'severity': 'safe'}, 'self_harm': {'filtered': False, 'severity': 'safe'}, 'sexual': {'filtered': False, 'severity': 'safe'}, 'violence': {'filtered': False, 'severity': 'safe'}}}], 'finish_reason': 'stop', 'logprobs': None, 'content_filter_results': {'hate': {'filtered': False, 'severity': 'safe'}, 'self_harm': {'filtered': False, 'severity': 'safe'}, 'sexual': {'filtered': False, 'severity': 'safe'}, 'violence': {'filtered': False, 'severity': 'safe'}}}, id='run-0240fc56-1a0f-46ac-b55e-49057afe6842-0', usage_metadata={'input_tokens': 576, 'output_tokens': 479, 'total_tokens': 1055})}\n",
      "Evaluator: Reading the article but doing nothing to change it...\n",
      "news_chef_router: Current state: {'article_state': AIMessage(content=\"It has been reported that Messi is moving from PSG to Real Madrid. This news has sent shockwaves through the football community, as Messi's transfer decisions are always highly anticipated and closely scrutinized. The Argentine superstar, who joined Paris Saint-Germain (PSG) in 2021 after a long and illustrious career at FC Barcelona, has been a pivotal player for the French club. His potential move to Real Madrid, one of Barcelona's fiercest rivals, adds an extra layer of intrigue and drama to the story.\\n\\nMessi's time at PSG has been marked by impressive performances, including key goals and assists that have helped the team in both domestic and European competitions. However, rumors of his dissatisfaction and desire for a new challenge have been circulating for some time. Real Madrid, known for its rich history and success in European football, could provide the fresh start Messi is looking for.\\n\\nThe transfer, if confirmed, would not only be a significant shift in Messi's career but also a major event in the football world. It would reignite the historic rivalry between Real Madrid and Barcelona, with Messi now on the opposite side. Fans and analysts alike are eagerly awaiting official confirmation and further details about the transfer, which could have far-reaching implications for both clubs and the broader football landscape.\\n\\nThe potential move also raises questions about the future dynamics of both teams. For PSG, losing a player of Messi's caliber would be a significant blow, and they would need to find a suitable replacement to maintain their competitive edge. On the other hand, Real Madrid would be gaining a player with unparalleled skill and experience, which could bolster their chances in both La Liga and the Champions League.\\n\\nMoreover, Messi's transfer could influence other players' decisions and the overall transfer market. His move might set off a chain reaction, with other top players considering their options and possibly seeking new opportunities. The financial aspects of the transfer, including the transfer fee and Messi's salary, would also be a topic of intense discussion, given the economic challenges many clubs are facing.\\n\\nIn conclusion, Messi's potential move from PSG to Real Madrid is more than just a transfer; it's a seismic event in the world of football. It encapsulates the drama, passion, and unpredictability that make the sport so captivating. As the football world holds its breath, the anticipation builds, and the impact of this transfer will be felt for years to come.\", response_metadata={'token_usage': {'completion_tokens': 479, 'prompt_tokens': 576, 'total_tokens': 1055}, 'model_name': 'gpt-4o-2024-05-13', 'system_fingerprint': 'fp_80a1bad4c7', 'prompt_filter_results': [{'prompt_index': 0, 'content_filter_results': {'hate': {'filtered': False, 'severity': 'safe'}, 'self_harm': {'filtered': False, 'severity': 'safe'}, 'sexual': {'filtered': False, 'severity': 'safe'}, 'violence': {'filtered': False, 'severity': 'safe'}}}], 'finish_reason': 'stop', 'logprobs': None, 'content_filter_results': {'hate': {'filtered': False, 'severity': 'safe'}, 'self_harm': {'filtered': False, 'severity': 'safe'}, 'sexual': {'filtered': False, 'severity': 'safe'}, 'violence': {'filtered': False, 'severity': 'safe'}}}, id='run-0240fc56-1a0f-46ac-b55e-49057afe6842-0', usage_metadata={'input_tokens': 576, 'output_tokens': 479, 'total_tokens': 1055})}\n",
      "News chef result: can_be_posted='yes' meets_word_count='yes' is_sensationalistic='yes' is_language_english='yes'\n",
      "publisher: Current state: {'article_state': AIMessage(content=\"It has been reported that Messi is moving from PSG to Real Madrid. This news has sent shockwaves through the football community, as Messi's transfer decisions are always highly anticipated and closely scrutinized. The Argentine superstar, who joined Paris Saint-Germain (PSG) in 2021 after a long and illustrious career at FC Barcelona, has been a pivotal player for the French club. His potential move to Real Madrid, one of Barcelona's fiercest rivals, adds an extra layer of intrigue and drama to the story.\\n\\nMessi's time at PSG has been marked by impressive performances, including key goals and assists that have helped the team in both domestic and European competitions. However, rumors of his dissatisfaction and desire for a new challenge have been circulating for some time. Real Madrid, known for its rich history and success in European football, could provide the fresh start Messi is looking for.\\n\\nThe transfer, if confirmed, would not only be a significant shift in Messi's career but also a major event in the football world. It would reignite the historic rivalry between Real Madrid and Barcelona, with Messi now on the opposite side. Fans and analysts alike are eagerly awaiting official confirmation and further details about the transfer, which could have far-reaching implications for both clubs and the broader football landscape.\\n\\nThe potential move also raises questions about the future dynamics of both teams. For PSG, losing a player of Messi's caliber would be a significant blow, and they would need to find a suitable replacement to maintain their competitive edge. On the other hand, Real Madrid would be gaining a player with unparalleled skill and experience, which could bolster their chances in both La Liga and the Champions League.\\n\\nMoreover, Messi's transfer could influence other players' decisions and the overall transfer market. His move might set off a chain reaction, with other top players considering their options and possibly seeking new opportunities. The financial aspects of the transfer, including the transfer fee and Messi's salary, would also be a topic of intense discussion, given the economic challenges many clubs are facing.\\n\\nIn conclusion, Messi's potential move from PSG to Real Madrid is more than just a transfer; it's a seismic event in the world of football. It encapsulates the drama, passion, and unpredictability that make the sport so captivating. As the football world holds its breath, the anticipation builds, and the impact of this transfer will be felt for years to come.\", response_metadata={'token_usage': {'completion_tokens': 479, 'prompt_tokens': 576, 'total_tokens': 1055}, 'model_name': 'gpt-4o-2024-05-13', 'system_fingerprint': 'fp_80a1bad4c7', 'prompt_filter_results': [{'prompt_index': 0, 'content_filter_results': {'hate': {'filtered': False, 'severity': 'safe'}, 'self_harm': {'filtered': False, 'severity': 'safe'}, 'sexual': {'filtered': False, 'severity': 'safe'}, 'violence': {'filtered': False, 'severity': 'safe'}}}], 'finish_reason': 'stop', 'logprobs': None, 'content_filter_results': {'hate': {'filtered': False, 'severity': 'safe'}, 'self_harm': {'filtered': False, 'severity': 'safe'}, 'sexual': {'filtered': False, 'severity': 'safe'}, 'violence': {'filtered': False, 'severity': 'safe'}}}, id='run-0240fc56-1a0f-46ac-b55e-49057afe6842-0', usage_metadata={'input_tokens': 576, 'output_tokens': 479, 'total_tokens': 1055})}\n",
      "FINAL_STATE in publisher: {'article_state': AIMessage(content=\"It has been reported that Messi is moving from PSG to Real Madrid. This news has sent shockwaves through the football community, as Messi's transfer decisions are always highly anticipated and closely scrutinized. The Argentine superstar, who joined Paris Saint-Germain (PSG) in 2021 after a long and illustrious career at FC Barcelona, has been a pivotal player for the French club. His potential move to Real Madrid, one of Barcelona's fiercest rivals, adds an extra layer of intrigue and drama to the story.\\n\\nMessi's time at PSG has been marked by impressive performances, including key goals and assists that have helped the team in both domestic and European competitions. However, rumors of his dissatisfaction and desire for a new challenge have been circulating for some time. Real Madrid, known for its rich history and success in European football, could provide the fresh start Messi is looking for.\\n\\nThe transfer, if confirmed, would not only be a significant shift in Messi's career but also a major event in the football world. It would reignite the historic rivalry between Real Madrid and Barcelona, with Messi now on the opposite side. Fans and analysts alike are eagerly awaiting official confirmation and further details about the transfer, which could have far-reaching implications for both clubs and the broader football landscape.\\n\\nThe potential move also raises questions about the future dynamics of both teams. For PSG, losing a player of Messi's caliber would be a significant blow, and they would need to find a suitable replacement to maintain their competitive edge. On the other hand, Real Madrid would be gaining a player with unparalleled skill and experience, which could bolster their chances in both La Liga and the Champions League.\\n\\nMoreover, Messi's transfer could influence other players' decisions and the overall transfer market. His move might set off a chain reaction, with other top players considering their options and possibly seeking new opportunities. The financial aspects of the transfer, including the transfer fee and Messi's salary, would also be a topic of intense discussion, given the economic challenges many clubs are facing.\\n\\nIn conclusion, Messi's potential move from PSG to Real Madrid is more than just a transfer; it's a seismic event in the world of football. It encapsulates the drama, passion, and unpredictability that make the sport so captivating. As the football world holds its breath, the anticipation builds, and the impact of this transfer will be felt for years to come.\", response_metadata={'token_usage': {'completion_tokens': 479, 'prompt_tokens': 576, 'total_tokens': 1055}, 'model_name': 'gpt-4o-2024-05-13', 'system_fingerprint': 'fp_80a1bad4c7', 'prompt_filter_results': [{'prompt_index': 0, 'content_filter_results': {'hate': {'filtered': False, 'severity': 'safe'}, 'self_harm': {'filtered': False, 'severity': 'safe'}, 'sexual': {'filtered': False, 'severity': 'safe'}, 'violence': {'filtered': False, 'severity': 'safe'}}}], 'finish_reason': 'stop', 'logprobs': None, 'content_filter_results': {'hate': {'filtered': False, 'severity': 'safe'}, 'self_harm': {'filtered': False, 'severity': 'safe'}, 'sexual': {'filtered': False, 'severity': 'safe'}, 'violence': {'filtered': False, 'severity': 'safe'}}}, id='run-0240fc56-1a0f-46ac-b55e-49057afe6842-0', usage_metadata={'input_tokens': 576, 'output_tokens': 479, 'total_tokens': 1055})}\n",
      "Final result: {'article_state': AIMessage(content=\"It has been reported that Messi is moving from PSG to Real Madrid. This news has sent shockwaves through the football community, as Messi's transfer decisions are always highly anticipated and closely scrutinized. The Argentine superstar, who joined Paris Saint-Germain (PSG) in 2021 after a long and illustrious career at FC Barcelona, has been a pivotal player for the French club. His potential move to Real Madrid, one of Barcelona's fiercest rivals, adds an extra layer of intrigue and drama to the story.\\n\\nMessi's time at PSG has been marked by impressive performances, including key goals and assists that have helped the team in both domestic and European competitions. However, rumors of his dissatisfaction and desire for a new challenge have been circulating for some time. Real Madrid, known for its rich history and success in European football, could provide the fresh start Messi is looking for.\\n\\nThe transfer, if confirmed, would not only be a significant shift in Messi's career but also a major event in the football world. It would reignite the historic rivalry between Real Madrid and Barcelona, with Messi now on the opposite side. Fans and analysts alike are eagerly awaiting official confirmation and further details about the transfer, which could have far-reaching implications for both clubs and the broader football landscape.\\n\\nThe potential move also raises questions about the future dynamics of both teams. For PSG, losing a player of Messi's caliber would be a significant blow, and they would need to find a suitable replacement to maintain their competitive edge. On the other hand, Real Madrid would be gaining a player with unparalleled skill and experience, which could bolster their chances in both La Liga and the Champions League.\\n\\nMoreover, Messi's transfer could influence other players' decisions and the overall transfer market. His move might set off a chain reaction, with other top players considering their options and possibly seeking new opportunities. The financial aspects of the transfer, including the transfer fee and Messi's salary, would also be a topic of intense discussion, given the economic challenges many clubs are facing.\\n\\nIn conclusion, Messi's potential move from PSG to Real Madrid is more than just a transfer; it's a seismic event in the world of football. It encapsulates the drama, passion, and unpredictability that make the sport so captivating. As the football world holds its breath, the anticipation builds, and the impact of this transfer will be felt for years to come.\", response_metadata={'token_usage': {'completion_tokens': 479, 'prompt_tokens': 576, 'total_tokens': 1055}, 'model_name': 'gpt-4o-2024-05-13', 'system_fingerprint': 'fp_80a1bad4c7', 'prompt_filter_results': [{'prompt_index': 0, 'content_filter_results': {'hate': {'filtered': False, 'severity': 'safe'}, 'self_harm': {'filtered': False, 'severity': 'safe'}, 'sexual': {'filtered': False, 'severity': 'safe'}, 'violence': {'filtered': False, 'severity': 'safe'}}}], 'finish_reason': 'stop', 'logprobs': None, 'content_filter_results': {'hate': {'filtered': False, 'severity': 'safe'}, 'self_harm': {'filtered': False, 'severity': 'safe'}, 'sexual': {'filtered': False, 'severity': 'safe'}, 'violence': {'filtered': False, 'severity': 'safe'}}}, id='run-0240fc56-1a0f-46ac-b55e-49057afe6842-0', usage_metadata={'input_tokens': 576, 'output_tokens': 479, 'total_tokens': 1055})}\n"
     ]
    }
   ],
   "source": [
    "\n",
    "random_article = \"Es wurde gemeldet, dass Messi von PSG zu Real Madrid wechselt.\"\n",
    "\n",
    "result = app.invoke({\"article_state\":random_article})\n",
    "\n",
    "print(\"Final result:\", result)"
   ]
  },
  {
   "cell_type": "code",
   "execution_count": 98,
   "metadata": {},
   "outputs": [
    {
     "name": "stdout",
     "output_type": "stream",
     "text": [
      "get_transfer_news_grade: Current state:{'article_state': 'The pope will be visiting Spain today'}\n",
      "Evaluator: Reading the article but doing nothing to change it...\n",
      "evaluator_router: Current state:{'article_state': 'The pope will be visiting Spain today'}\n",
      "Evaluator result: binary_score='no'\n",
      "Final result: {'article_state': 'The pope will be visiting Spain today'}\n"
     ]
    }
   ],
   "source": [
    "random_article2 = \"The pope will be visiting Spain today\"\n",
    "\n",
    "result = app.invoke({\"article_state\":random_article2})\n",
    "\n",
    "print(\"Final result:\", result)"
   ]
  },
  {
   "cell_type": "code",
   "execution_count": null,
   "metadata": {},
   "outputs": [],
   "source": []
  },
  {
   "cell_type": "markdown",
   "metadata": {},
   "source": [
    "### KN - chatbot"
   ]
  },
  {
   "cell_type": "code",
   "execution_count": null,
   "metadata": {},
   "outputs": [],
   "source": [
    "from typing import Annotated\n",
    "from typing_extensions import TypedDict\n",
    "from langgraph.graph import StateGraph, END, START\n",
    "from langgraph.graph.message import add_messages ## we have messages as we add them, the state of the agent keeps changing"
   ]
  }
 ],
 "metadata": {
  "kernelspec": {
   "display_name": "Python 3",
   "language": "python",
   "name": "python3"
  },
  "language_info": {
   "codemirror_mode": {
    "name": "ipython",
    "version": 3
   },
   "file_extension": ".py",
   "mimetype": "text/x-python",
   "name": "python",
   "nbconvert_exporter": "python",
   "pygments_lexer": "ipython3",
   "version": "3.12.0"
  }
 },
 "nbformat": 4,
 "nbformat_minor": 2
}
